{
 "cells": [
  {
   "cell_type": "markdown",
   "id": "4ef4485e",
   "metadata": {},
   "source": [
    "# Ch9 Classes"
   ]
  },
  {
   "cell_type": "markdown",
   "id": "7b465366",
   "metadata": {},
   "source": [
    "### Python is an object oriented programming language.\n",
    "- Almost everything in Python is an object, with its properties and methods (Functions).\n",
    "- A Class is like an object constructor, or a \"blueprint\" for creating objects."
   ]
  },
  {
   "cell_type": "code",
   "execution_count": 51,
   "id": "741b88de",
   "metadata": {},
   "outputs": [
    {
     "name": "stdout",
     "output_type": "stream",
     "text": [
      "Angel\n",
      "Hill\n",
      "Employee Full Name: Angel Hill\n",
      "Employee Full Name: Peter White\n"
     ]
    }
   ],
   "source": [
    "class Employee(): \n",
    "    #innit is the constructor of the class.\n",
    "    #self is always the first value of innit.  Used to represent the instance of a class.\n",
    "    def __init__(self, first, last, age, dept): #method/function.\n",
    "        self.first=first.title()\n",
    "        self.last=last.title()\n",
    "        self.age=age\n",
    "        self.dept=dept.title()\n",
    "    def fullname(self):\n",
    "        return f\"Employee Full Name: {self.first} {self.last}\"\n",
    "emp1=Employee(\"angel\", \"hill\", 32, \"accounting\")\n",
    "emp2=Employee(\"peter\", \"white\", 35, \"finance\")\n",
    "print(emp1.first)\n",
    "print(emp1.last)\n",
    "print(emp1.fullname())\n",
    "print(emp2.fullname())\n",
    "#print(f\"Employee Full Name: {emp1.first} {emp1.last}\")"
   ]
  },
  {
   "cell_type": "markdown",
   "id": "5d60f7c0",
   "metadata": {},
   "source": [
    "### Creating the Dog Class\n",
    "Each instance created from the Dog class will store a name and an age, and we’ll give each dog the ability to sit() and roll_over():"
   ]
  },
  {
   "cell_type": "code",
   "execution_count": 2,
   "id": "6e84155c",
   "metadata": {},
   "outputs": [],
   "source": [
    "class Dog():\n",
    "    def __init__(self, name, age):\n",
    "        self.name=name\n",
    "        self.age=age\n",
    "        \n",
    "    def sit(self):\n",
    "        print(f\"{self.name} is now sitting\")\n",
    "        \n",
    "    def roll_over(self):\n",
    "        print(f\"{self.name} is now rolling over\")"
   ]
  },
  {
   "cell_type": "code",
   "execution_count": 3,
   "id": "3c70e9c0",
   "metadata": {},
   "outputs": [
    {
     "name": "stdout",
     "output_type": "stream",
     "text": [
      "Shelby\n",
      "5\n",
      "Bradly\n",
      "2\n",
      "Shelby is now sitting\n",
      "Bradly is now rolling over\n"
     ]
    }
   ],
   "source": [
    "dog1=Dog(\"Shelby\", 5)\n",
    "dog2=Dog(\"Bradly\", 2)\n",
    "\n",
    "print(dog1.name)\n",
    "print(dog1.age)\n",
    "print(dog2.name)\n",
    "print(dog2.age)\n",
    "dog1.sit()\n",
    "dog2.roll_over()"
   ]
  },
  {
   "cell_type": "markdown",
   "id": "8bbcc5c0",
   "metadata": {},
   "source": [
    "#### Note:\n",
    "- By convention, capitalized names refer to classes in Python. \n",
    "- The parentheses in the class definition are empty because we’re creating this class from scratch.\n",
    "- All classes have a function called __init__(), which is always executed when the class is being initiated.\n",
    "- Use the __init__() function to assign values to object properties, or other operations that are necessary to do when the object is being created\n",
    "- Any variable prefixed with `self` is available to every method in the class, and we’ll also be able to access these variables through any instance created from the class.\n",
    "- The Dog class has two other methods defined: sit() and roll_over().Because these methods don’t need additional information like a name or age, we just define them to have one parameter, self."
   ]
  },
  {
   "cell_type": "markdown",
   "id": "402f0696",
   "metadata": {},
   "source": [
    "### Restaurant: Make a class called Restaurant. The __init__() method for Restaurant should store two attributes: a restaurant_name and a cuisine_type.\n",
    "- Make a method called `describe_restaurant()` that prints name of the restrurent and the cuisine type\n",
    "- and a method called open_restaurant() that prints a message indicating that the restaurant is open.\n",
    "- Make an instance called restaurant from your class. Print the two attributes individually, and then call both methods.\n"
   ]
  },
  {
   "cell_type": "code",
   "execution_count": 4,
   "id": "c4316b2d",
   "metadata": {},
   "outputs": [],
   "source": [
    "class Restaurant():\n",
    "    def __init__(self, name, cuisine_type):\n",
    "        self.name=name\n",
    "        self.cuisine_type=cuisine_type\n",
    "        \n",
    "    def describe_restaurant(self):\n",
    "        print(f\"{self.name} serves wonderful {self.cuisine_type}.\")\n",
    "        \n",
    "    def open_restaurant(self):\n",
    "        print(f\"{self.name} is open. Come on In!\")\n",
    "        "
   ]
  },
  {
   "cell_type": "code",
   "execution_count": 5,
   "id": "f9be3f46",
   "metadata": {},
   "outputs": [
    {
     "name": "stdout",
     "output_type": "stream",
     "text": [
      "the mean queen serves wonderful pizza.\n",
      "Ludvig's bistro serves wonderful seafood.\n",
      "mango thai serves wonderful thai food.\n"
     ]
    }
   ],
   "source": [
    "mean_queen = Restaurant('the mean queen', 'pizza')\n",
    "mean_queen.describe_restaurant()\n",
    "\n",
    "ludvigs = Restaurant(\"Ludvig's bistro\", 'seafood')\n",
    "ludvigs.describe_restaurant()\n",
    "\n",
    "mango_thai = Restaurant('mango thai', 'thai food')\n",
    "mango_thai.describe_restaurant()"
   ]
  },
  {
   "cell_type": "markdown",
   "id": "8b4a4fca",
   "metadata": {},
   "source": [
    "### - Create three different instances from the class, and call describe_restaurant() for each instance."
   ]
  },
  {
   "cell_type": "code",
   "execution_count": null,
   "id": "b3845fe0",
   "metadata": {},
   "outputs": [],
   "source": []
  },
  {
   "cell_type": "code",
   "execution_count": null,
   "id": "e6aa8a33",
   "metadata": {},
   "outputs": [],
   "source": []
  },
  {
   "cell_type": "code",
   "execution_count": null,
   "id": "6b24e6f1",
   "metadata": {},
   "outputs": [],
   "source": []
  },
  {
   "cell_type": "markdown",
   "id": "8f4032c6",
   "metadata": {},
   "source": [
    "### Users: Make a class called User. Create attributes called first_name and last_name, username, location \n",
    "- Make a method called describe_user() that prints a summary of the user’s information. \n",
    "- Make another method called greet_user() that prints a personalized greeting to the user.\n",
    "- Create several instances representing different users, and call both methods for each user."
   ]
  },
  {
   "cell_type": "code",
   "execution_count": 6,
   "id": "dda94ce2",
   "metadata": {},
   "outputs": [],
   "source": [
    "class User():\n",
    "    def __init__(self, first_name, last_name, username, location):\n",
    "        self.first_name=first_name.title()\n",
    "        self.last_name=last_name.title()\n",
    "        self.username=username\n",
    "        self.location=location.title()\n",
    "    \n",
    "    def describe_user(self):\n",
    "        print(f\"{self.first_name} {self.last_name}\")\n",
    "        print(f\" Username: {self.username}\")\n",
    "        print(f\" Location: {self.location}\")\n",
    "        \n",
    "    def greet_user(self):\n",
    "        print(f\" Welcome Back! {self.username}\")"
   ]
  },
  {
   "cell_type": "code",
   "execution_count": 7,
   "id": "8864d617",
   "metadata": {},
   "outputs": [
    {
     "name": "stdout",
     "output_type": "stream",
     "text": [
      "Ben Griffis\n",
      " Username: ben.griffis\n",
      " Location: Ohio\n",
      " Welcome Back! ben.griffis\n"
     ]
    }
   ],
   "source": [
    "ben=User('ben', 'griffis', 'ben.griffis', 'ohio')\n",
    "ben.describe_user()\n",
    "ben.greet_user()"
   ]
  },
  {
   "cell_type": "markdown",
   "id": "8b5bfff2",
   "metadata": {},
   "source": [
    "## Setting a Default Value for an Attribute"
   ]
  },
  {
   "cell_type": "code",
   "execution_count": 8,
   "id": "bbdc7a10",
   "metadata": {},
   "outputs": [],
   "source": [
    "class car():\n",
    "    def __init__(self,make,model,year):\n",
    "        self.make=make\n",
    "        self.model=model\n",
    "        self.year=year\n",
    "        self.odometer_reading=0\n",
    "        \n",
    "    def get_descriptive_name(self):\n",
    "        long_name=str(self.year)+ \" \" +self.make + \" \" + self.model\n",
    "        return long_name.title()\n",
    "    \n",
    "    def read_odometer(self):\n",
    "        print(f\"This car has {self.odometer_reading} miles on it\")\n",
    "        \n",
    "    def update_odometer(self,milage):\n",
    "        self.odometer_reading=milage"
   ]
  },
  {
   "cell_type": "code",
   "execution_count": 9,
   "id": "35859896",
   "metadata": {},
   "outputs": [
    {
     "data": {
      "text/plain": [
       "'2018 Honda Accord'"
      ]
     },
     "execution_count": 9,
     "metadata": {},
     "output_type": "execute_result"
    }
   ],
   "source": [
    "my_car=car(\"Honda\", \"Accord\", 2018)\n",
    "my_car.get_descriptive_name()"
   ]
  },
  {
   "cell_type": "code",
   "execution_count": 10,
   "id": "9ea6316b",
   "metadata": {},
   "outputs": [
    {
     "name": "stdout",
     "output_type": "stream",
     "text": [
      "This car has 0 miles on it\n"
     ]
    }
   ],
   "source": [
    "my_car.read_odometer()"
   ]
  },
  {
   "cell_type": "code",
   "execution_count": 11,
   "id": "033bbb13",
   "metadata": {},
   "outputs": [],
   "source": [
    "my_car.update_odometer(40)"
   ]
  },
  {
   "cell_type": "code",
   "execution_count": 12,
   "id": "7c98dea9",
   "metadata": {},
   "outputs": [
    {
     "name": "stdout",
     "output_type": "stream",
     "text": [
      "This car has 40 miles on it\n"
     ]
    }
   ],
   "source": [
    "my_car.read_odometer()"
   ]
  },
  {
   "cell_type": "markdown",
   "id": "3f840f3e",
   "metadata": {},
   "source": [
    "#### Modifying an Attribute’s Value Directly"
   ]
  },
  {
   "cell_type": "code",
   "execution_count": null,
   "id": "6f8fa540",
   "metadata": {},
   "outputs": [],
   "source": []
  },
  {
   "cell_type": "code",
   "execution_count": null,
   "id": "2f382418",
   "metadata": {},
   "outputs": [],
   "source": []
  },
  {
   "cell_type": "markdown",
   "id": "27f8f244",
   "metadata": {},
   "source": [
    "### Modifying an Attribute’s Value Through a Method"
   ]
  },
  {
   "cell_type": "code",
   "execution_count": null,
   "id": "9b3ae956",
   "metadata": {},
   "outputs": [],
   "source": []
  },
  {
   "cell_type": "code",
   "execution_count": null,
   "id": "3c3c57c2",
   "metadata": {},
   "outputs": [],
   "source": []
  },
  {
   "cell_type": "markdown",
   "id": "fd560131",
   "metadata": {},
   "source": [
    "### Incrementing an Attribute’s Value Through a Method"
   ]
  },
  {
   "cell_type": "code",
   "execution_count": null,
   "id": "8d76b884",
   "metadata": {},
   "outputs": [],
   "source": []
  },
  {
   "cell_type": "code",
   "execution_count": null,
   "id": "1500c7e7",
   "metadata": {},
   "outputs": [],
   "source": []
  },
  {
   "cell_type": "markdown",
   "id": "b96f0d18",
   "metadata": {},
   "source": [
    "# Inheritance\n",
    "- You don’t always have to start from scratch when writing a class. If the class you’re writing is a specialized version of another class you wrote, you can use inheritance. \n",
    "- When one class inherits from another, it automatically takes on all the attributes and methods of the first class. The original class is called the `parent class`, and the new class is the `child class`. \n",
    "- The child class inherits every attribute and method from its parent class but is also free to define new attributes and methods of its own."
   ]
  },
  {
   "cell_type": "markdown",
   "id": "b56ad142",
   "metadata": {},
   "source": [
    "## Parent Class"
   ]
  },
  {
   "cell_type": "code",
   "execution_count": 13,
   "id": "5b7c3efd",
   "metadata": {},
   "outputs": [],
   "source": [
    "class car():\n",
    "    def __init__(self,make,model,year):\n",
    "        self.make=make\n",
    "        self.model=model\n",
    "        self.year=year\n",
    "        self.odometer_reading=0\n",
    "        \n",
    "    def get_descriptive_name(self):\n",
    "        long_name=str(self.year)+ \" \" +self.make + \" \" + self.model\n",
    "        return long_name.title()\n",
    "    \n",
    "    def read_odometer(self):\n",
    "        print(f\"This car has {self.odometer_reading} miles on it\")\n",
    "        \n",
    "    def update_odometer(self,milage):\n",
    "        self.odometer_reading=milage"
   ]
  },
  {
   "cell_type": "markdown",
   "id": "2c243937",
   "metadata": {},
   "source": [
    "## Child Class"
   ]
  },
  {
   "cell_type": "code",
   "execution_count": 18,
   "id": "4047d4b6",
   "metadata": {},
   "outputs": [],
   "source": [
    "class ElectricCar(car):\n",
    "    def __init__(self,make,model,year):\n",
    "        super().__init__(make,model,year) # Inherite the parent class attributes"
   ]
  },
  {
   "cell_type": "code",
   "execution_count": 20,
   "id": "19bf5596",
   "metadata": {},
   "outputs": [
    {
     "name": "stdout",
     "output_type": "stream",
     "text": [
      "2021 Tesla X\n"
     ]
    }
   ],
   "source": [
    "My_Tesla=ElectricCar(\"Tesla\", \"x\", 2021)\n",
    "print(My_Tesla.get_descriptive_name())"
   ]
  },
  {
   "cell_type": "markdown",
   "id": "5b594c20",
   "metadata": {},
   "source": [
    "### Practice: Create a class named Person, with firstname and lastname properties, and a printname method:"
   ]
  },
  {
   "cell_type": "code",
   "execution_count": 28,
   "id": "681edaaf",
   "metadata": {},
   "outputs": [],
   "source": [
    "class Person():\n",
    "    def __init__(self,firstname,lastname):\n",
    "        self.firstname=firstname\n",
    "        self.lastname=lastname\n",
    "        \n",
    "    def printname(self):\n",
    "        print(f'Full Name: {self.firstname} {self.lastname}')"
   ]
  },
  {
   "cell_type": "code",
   "execution_count": 29,
   "id": "9d3a0e56",
   "metadata": {},
   "outputs": [
    {
     "name": "stdout",
     "output_type": "stream",
     "text": [
      "Full Name: Ben Griffis\n",
      "Full Name: Brooke Griffis\n"
     ]
    }
   ],
   "source": [
    "my_name=Person(\"Ben\", \"Griffis\")\n",
    "my_name.printname()\n",
    "sister_name=Person(\"Brooke\", \"Griffis\")\n",
    "sister_name.printname()"
   ]
  },
  {
   "cell_type": "code",
   "execution_count": null,
   "id": "b75d7a0a",
   "metadata": {},
   "outputs": [],
   "source": []
  },
  {
   "cell_type": "markdown",
   "id": "a8023470",
   "metadata": {},
   "source": [
    "### Create child classes called Student using Inheritance contains the first and last name and the graduation year \n",
    "- Add a method called `welcome` that prints the student graduation year\n",
    "- Test the student method for two students"
   ]
  },
  {
   "cell_type": "code",
   "execution_count": 39,
   "id": "8a1571d5",
   "metadata": {},
   "outputs": [],
   "source": [
    "class student(Person):\n",
    "    def __init__(self,firstname,lastname,gradyear):\n",
    "        super().__init__(firstname,lastname)\n",
    "        self.gradyear=gradyear\n",
    "        \n",
    "    def welcome(self):\n",
    "        print(f'Welcome, {self.firstname} {self.lastname} to the class of {self.gradyear}')"
   ]
  },
  {
   "cell_type": "code",
   "execution_count": 40,
   "id": "5816f6a4",
   "metadata": {},
   "outputs": [
    {
     "name": "stdout",
     "output_type": "stream",
     "text": [
      "Welcome, John Clark to the class of 2025\n"
     ]
    }
   ],
   "source": [
    "student1=student(\"John\", \"Clark\", 2025)\n",
    "student1.welcome()"
   ]
  },
  {
   "cell_type": "code",
   "execution_count": 41,
   "id": "e80ca62a",
   "metadata": {},
   "outputs": [
    {
     "name": "stdout",
     "output_type": "stream",
     "text": [
      "Welcome, Ben Griffis to the class of 2025\n"
     ]
    }
   ],
   "source": [
    "student2=student(\"Ben\", \"Griffis\", 2025)\n",
    "student2.welcome()"
   ]
  },
  {
   "cell_type": "markdown",
   "id": "c6216b91",
   "metadata": {},
   "source": [
    "## Create rectangle (Length and width) and square (length) classes and create methods for calculating the area and perimeter"
   ]
  },
  {
   "cell_type": "code",
   "execution_count": 54,
   "id": "0c06906f",
   "metadata": {},
   "outputs": [],
   "source": [
    "class rectangle():\n",
    "    def __init__(self,length,width):\n",
    "        self.length=length\n",
    "        self.width=width\n",
    "        \n",
    "    def rectangle_area(self):\n",
    "        return self.length*self.width\n",
    "        \n",
    "    def rectangle_perimeter(self):\n",
    "        return 2* (self.length+self.width)\n",
    "        \n",
    "class square():\n",
    "    def __init__(self,length):\n",
    "        self.length=length\n",
    "        \n",
    "    def square_area(self):\n",
    "        return self.length**2\n",
    "        \n",
    "    def square_perimeter(self):\n",
    "        return 4*self.length"
   ]
  },
  {
   "cell_type": "code",
   "execution_count": 55,
   "id": "5cd33e86",
   "metadata": {},
   "outputs": [
    {
     "name": "stdout",
     "output_type": "stream",
     "text": [
      "16\n",
      "16\n"
     ]
    }
   ],
   "source": [
    "square= square(4)\n",
    "print(square.square_area())\n",
    "print(square.square_perimeter())"
   ]
  },
  {
   "cell_type": "code",
   "execution_count": 56,
   "id": "c692e0b1",
   "metadata": {},
   "outputs": [
    {
     "name": "stdout",
     "output_type": "stream",
     "text": [
      "200\n",
      "60\n"
     ]
    }
   ],
   "source": [
    "rectangle= rectangle(10,20)\n",
    "print(rectangle.rectangle_area())\n",
    "print(rectangle.rectangle_perimeter())"
   ]
  },
  {
   "cell_type": "markdown",
   "id": "48811dec",
   "metadata": {},
   "source": [
    "## Use inheritance to create the square class from parent class rectangle"
   ]
  },
  {
   "cell_type": "code",
   "execution_count": 50,
   "id": "fa1a7a79",
   "metadata": {},
   "outputs": [
    {
     "ename": "TypeError",
     "evalue": "__init__() takes 3 positional arguments but 4 were given",
     "output_type": "error",
     "traceback": [
      "\u001b[0;31m---------------------------------------------------------------------------\u001b[0m",
      "\u001b[0;31mTypeError\u001b[0m                                 Traceback (most recent call last)",
      "Input \u001b[0;32mIn [50]\u001b[0m, in \u001b[0;36m<cell line: 1>\u001b[0;34m()\u001b[0m\n\u001b[0;32m----> 1\u001b[0m \u001b[38;5;28;01mclass\u001b[39;00m \u001b[38;5;21;01mSquare1\u001b[39;00m(rectangle):\n\u001b[1;32m      2\u001b[0m     \u001b[38;5;28;01mdef\u001b[39;00m \u001b[38;5;21m__init__\u001b[39m(\u001b[38;5;28mself\u001b[39m,length):\n\u001b[1;32m      3\u001b[0m         \u001b[38;5;28msuper\u001b[39m()\u001b[38;5;241m.\u001b[39m\u001b[38;5;21m__init__\u001b[39m(length,length)\n",
      "\u001b[0;31mTypeError\u001b[0m: __init__() takes 3 positional arguments but 4 were given"
     ]
    }
   ],
   "source": [
    "class Square1(rectangle):\n",
    "    def __init__(self,length):\n",
    "        super().__init__(length,length)"
   ]
  },
  {
   "cell_type": "markdown",
   "id": "3bdcfd1c",
   "metadata": {},
   "source": [
    "## Create a simple calculator using classes"
   ]
  },
  {
   "cell_type": "code",
   "execution_count": null,
   "id": "6ab4b4b1",
   "metadata": {},
   "outputs": [],
   "source": [
    "class calc():\n",
    "    def __init__(self,input1,input2):\n",
    "        self.input1=input1\n",
    "        self.input2=input2\n",
    "        \n",
    "    def addition(num1, num2):\n",
    "        print(f'Addition= {num1+num2}')\n",
    "        \n",
    "    def subtraction(num1, num2):\n",
    "        print(f'Subtraction= {num1-num2}')\n",
    "    \n",
    "    def division(num1, num2):\n",
    "        print(f'Division= {num1/num2}')\n",
    "    \n",
    "    def multiplication(num1, num2):\n",
    "        print(f'Multiplication= {num1*num2}')\n",
    "        \n",
    "\n",
    "while True:\n",
    "    print(\"Chose from the following menu:\")\n",
    "    print(\"1. Addition\")\n",
    "    print(\"2. Subtraction\")\n",
    "    print(\"3. Multiplication\")\n",
    "    print(\"4. Division\")\n",
    "    print(\"5. Exit\")\n",
    "    \n",
    "    choice=int(input(\"Enter your choice (1-5)\"))\n",
    "    \n",
    "    if choice==1:\n",
    "        num1=int(input(\"Enter 1st number:\"))\n",
    "        num2=int(input(\"Enter 2nd number:\"))\n",
    "        calc.addition(num1,num2)\n",
    "    elif choice==2:\n",
    "        num1=int(input(\"Enter 1st number:\"))\n",
    "        num2=int(input(\"Enter 2nd number:\"))\n",
    "        calc.subtraction(num1,num2)\n",
    "    elif choice==3:\n",
    "        num1=int(input(\"Enter 1st number:\"))\n",
    "        num2=int(input(\"Enter 2nd number:\"))\n",
    "        calc.multiplication(num1,num2)\n",
    "    elif choice==4:\n",
    "        num1=int(input(\"Enter 1st number:\"))\n",
    "        num2=int(input(\"Enter 2nd number:\"))\n",
    "        if num2==0:\n",
    "            print(\"Infinity\")\n",
    "        else:\n",
    "            calc.division(num1,num2)\n",
    "    elif choice==5:\n",
    "        break\n",
    "    else:\n",
    "        print(\"This isn't an option\")"
   ]
  },
  {
   "cell_type": "markdown",
   "id": "0ec161b5",
   "metadata": {},
   "source": [
    "## ATM machine "
   ]
  },
  {
   "cell_type": "code",
   "execution_count": null,
   "id": "267c3e25",
   "metadata": {},
   "outputs": [],
   "source": [
    "class ATM:\n",
    "    def __init__(self):\n",
    "        self.balance=0\n",
    "        print(\"Hello! Welcome to the ATM Machine\")\n",
    "        \n",
    "    def deposit(self):\n",
    "        amount=float(input(\"Enter amount to be deposited: \"))\n",
    "        self.balance+=amount\n",
    "        print(\"The amount deposited: \", amount)\n",
    "    def withdraw(self):\n",
    "        amount=float(input(\"Enter amount to be withdrawn: \"))\n",
    "        if self.balance>=amount:\n",
    "            self.balance-=amount\n",
    "            print(\"The amount withdrawn: \", amount)\n",
    "        else:\n",
    "            print(\"Insufficient balance\")\n",
    "    def display(self):\n",
    "        print(\"The avaliable balance is \", self.balance)"
   ]
  },
  {
   "cell_type": "code",
   "execution_count": null,
   "id": "a6e40459",
   "metadata": {},
   "outputs": [],
   "source": [
    "my_account= ATM()\n",
    "my_account.deposit()"
   ]
  },
  {
   "cell_type": "code",
   "execution_count": null,
   "id": "5349965d",
   "metadata": {},
   "outputs": [],
   "source": [
    "my_account.deposit()"
   ]
  },
  {
   "cell_type": "code",
   "execution_count": null,
   "id": "5338b5c0",
   "metadata": {},
   "outputs": [],
   "source": [
    "my_account.display()"
   ]
  },
  {
   "cell_type": "code",
   "execution_count": null,
   "id": "d9d44c18",
   "metadata": {},
   "outputs": [],
   "source": [
    "my_account.withdraw()"
   ]
  },
  {
   "cell_type": "code",
   "execution_count": null,
   "id": "cd0c1087",
   "metadata": {},
   "outputs": [],
   "source": [
    "my_account.display()"
   ]
  },
  {
   "cell_type": "code",
   "execution_count": null,
   "id": "c056cfc4",
   "metadata": {},
   "outputs": [],
   "source": []
  }
 ],
 "metadata": {
  "kernelspec": {
   "display_name": "Python 3 (ipykernel)",
   "language": "python",
   "name": "python3"
  },
  "language_info": {
   "codemirror_mode": {
    "name": "ipython",
    "version": 3
   },
   "file_extension": ".py",
   "mimetype": "text/x-python",
   "name": "python",
   "nbconvert_exporter": "python",
   "pygments_lexer": "ipython3",
   "version": "3.9.12"
  }
 },
 "nbformat": 4,
 "nbformat_minor": 5
}
